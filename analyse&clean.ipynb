{
 "cells": [
  {
   "cell_type": "markdown",
   "metadata": {
    "pycharm": {
     "name": "#%% md\n"
    }
   },
   "source": [
    "# Customer personality analysis"
   ]
  },
  {
   "cell_type": "code",
   "execution_count": 172,
   "metadata": {
    "pycharm": {
     "name": "#%%\n"
    }
   },
   "outputs": [],
   "source": [
    "import pandas as pd\n",
    "import numpy as np\n",
    "import matplotlib.pyplot as plt\n",
    "import sklearn\n",
    "from datetime import datetime\n",
    "import warnings\n",
    "import sys\n",
    "import os"
   ]
  },
  {
   "cell_type": "code",
   "execution_count": 173,
   "metadata": {
    "pycharm": {
     "name": "#%%\n"
    }
   },
   "outputs": [],
   "source": [
    "warnings.filterwarnings('ignore')"
   ]
  },
  {
   "cell_type": "code",
   "execution_count": 174,
   "metadata": {
    "pycharm": {
     "name": "#%%\n"
    }
   },
   "outputs": [
    {
     "data": {
      "text/plain": "         ID  Year_Birth   Education Marital_Status   Income  Kidhome  \\\n0      5524        1957  Graduation         Single  58138.0        0   \n1      2174        1954  Graduation         Single  46344.0        1   \n2      4141        1965  Graduation       Together  71613.0        0   \n3      6182        1984  Graduation       Together  26646.0        1   \n4      5324        1981         PhD        Married  58293.0        1   \n...     ...         ...         ...            ...      ...      ...   \n2235  10870        1967  Graduation        Married  61223.0        0   \n2236   4001        1946         PhD       Together  64014.0        2   \n2237   7270        1981  Graduation       Divorced  56981.0        0   \n2238   8235        1956      Master       Together  69245.0        0   \n2239   9405        1954         PhD        Married  52869.0        1   \n\n      Teenhome Dt_Customer  Recency  MntWines  MntFruits  MntMeatProducts  \\\n0            0  04-09-2012       58       635         88              546   \n1            1  08-03-2014       38        11          1                6   \n2            0  21-08-2013       26       426         49              127   \n3            0  10-02-2014       26        11          4               20   \n4            0  19-01-2014       94       173         43              118   \n...        ...         ...      ...       ...        ...              ...   \n2235         1  13-06-2013       46       709         43              182   \n2236         1  10-06-2014       56       406          0               30   \n2237         0  25-01-2014       91       908         48              217   \n2238         1  24-01-2014        8       428         30              214   \n2239         1  15-10-2012       40        84          3               61   \n\n      MntFishProducts  MntSweetProducts  MntGoldProds  NumDealsPurchases  \\\n0                 172                88            88                  3   \n1                   2                 1             6                  2   \n2                 111                21            42                  1   \n3                  10                 3             5                  2   \n4                  46                27            15                  5   \n...               ...               ...           ...                ...   \n2235               42               118           247                  2   \n2236                0                 0             8                  7   \n2237               32                12            24                  1   \n2238               80                30            61                  2   \n2239                2                 1            21                  3   \n\n      NumWebPurchases  NumCatalogPurchases  NumStorePurchases  \\\n0                   8                   10                  4   \n1                   1                    1                  2   \n2                   8                    2                 10   \n3                   2                    0                  4   \n4                   5                    3                  6   \n...               ...                  ...                ...   \n2235                9                    3                  4   \n2236                8                    2                  5   \n2237                2                    3                 13   \n2238                6                    5                 10   \n2239                3                    1                  4   \n\n      NumWebVisitsMonth  AcceptedCmp3  AcceptedCmp4  AcceptedCmp5  \\\n0                     7             0             0             0   \n1                     5             0             0             0   \n2                     4             0             0             0   \n3                     6             0             0             0   \n4                     5             0             0             0   \n...                 ...           ...           ...           ...   \n2235                  5             0             0             0   \n2236                  7             0             0             0   \n2237                  6             0             1             0   \n2238                  3             0             0             0   \n2239                  7             0             0             0   \n\n      AcceptedCmp1  AcceptedCmp2  Complain  Z_CostContact  Z_Revenue  Response  \n0                0             0         0              3         11         1  \n1                0             0         0              3         11         0  \n2                0             0         0              3         11         0  \n3                0             0         0              3         11         0  \n4                0             0         0              3         11         0  \n...            ...           ...       ...            ...        ...       ...  \n2235             0             0         0              3         11         0  \n2236             1             0         0              3         11         0  \n2237             0             0         0              3         11         0  \n2238             0             0         0              3         11         0  \n2239             0             0         0              3         11         1  \n\n[2216 rows x 29 columns]",
      "text/html": "<div>\n<style scoped>\n    .dataframe tbody tr th:only-of-type {\n        vertical-align: middle;\n    }\n\n    .dataframe tbody tr th {\n        vertical-align: top;\n    }\n\n    .dataframe thead th {\n        text-align: right;\n    }\n</style>\n<table border=\"1\" class=\"dataframe\">\n  <thead>\n    <tr style=\"text-align: right;\">\n      <th></th>\n      <th>ID</th>\n      <th>Year_Birth</th>\n      <th>Education</th>\n      <th>Marital_Status</th>\n      <th>Income</th>\n      <th>Kidhome</th>\n      <th>Teenhome</th>\n      <th>Dt_Customer</th>\n      <th>Recency</th>\n      <th>MntWines</th>\n      <th>MntFruits</th>\n      <th>MntMeatProducts</th>\n      <th>MntFishProducts</th>\n      <th>MntSweetProducts</th>\n      <th>MntGoldProds</th>\n      <th>NumDealsPurchases</th>\n      <th>NumWebPurchases</th>\n      <th>NumCatalogPurchases</th>\n      <th>NumStorePurchases</th>\n      <th>NumWebVisitsMonth</th>\n      <th>AcceptedCmp3</th>\n      <th>AcceptedCmp4</th>\n      <th>AcceptedCmp5</th>\n      <th>AcceptedCmp1</th>\n      <th>AcceptedCmp2</th>\n      <th>Complain</th>\n      <th>Z_CostContact</th>\n      <th>Z_Revenue</th>\n      <th>Response</th>\n    </tr>\n  </thead>\n  <tbody>\n    <tr>\n      <th>0</th>\n      <td>5524</td>\n      <td>1957</td>\n      <td>Graduation</td>\n      <td>Single</td>\n      <td>58138.0</td>\n      <td>0</td>\n      <td>0</td>\n      <td>04-09-2012</td>\n      <td>58</td>\n      <td>635</td>\n      <td>88</td>\n      <td>546</td>\n      <td>172</td>\n      <td>88</td>\n      <td>88</td>\n      <td>3</td>\n      <td>8</td>\n      <td>10</td>\n      <td>4</td>\n      <td>7</td>\n      <td>0</td>\n      <td>0</td>\n      <td>0</td>\n      <td>0</td>\n      <td>0</td>\n      <td>0</td>\n      <td>3</td>\n      <td>11</td>\n      <td>1</td>\n    </tr>\n    <tr>\n      <th>1</th>\n      <td>2174</td>\n      <td>1954</td>\n      <td>Graduation</td>\n      <td>Single</td>\n      <td>46344.0</td>\n      <td>1</td>\n      <td>1</td>\n      <td>08-03-2014</td>\n      <td>38</td>\n      <td>11</td>\n      <td>1</td>\n      <td>6</td>\n      <td>2</td>\n      <td>1</td>\n      <td>6</td>\n      <td>2</td>\n      <td>1</td>\n      <td>1</td>\n      <td>2</td>\n      <td>5</td>\n      <td>0</td>\n      <td>0</td>\n      <td>0</td>\n      <td>0</td>\n      <td>0</td>\n      <td>0</td>\n      <td>3</td>\n      <td>11</td>\n      <td>0</td>\n    </tr>\n    <tr>\n      <th>2</th>\n      <td>4141</td>\n      <td>1965</td>\n      <td>Graduation</td>\n      <td>Together</td>\n      <td>71613.0</td>\n      <td>0</td>\n      <td>0</td>\n      <td>21-08-2013</td>\n      <td>26</td>\n      <td>426</td>\n      <td>49</td>\n      <td>127</td>\n      <td>111</td>\n      <td>21</td>\n      <td>42</td>\n      <td>1</td>\n      <td>8</td>\n      <td>2</td>\n      <td>10</td>\n      <td>4</td>\n      <td>0</td>\n      <td>0</td>\n      <td>0</td>\n      <td>0</td>\n      <td>0</td>\n      <td>0</td>\n      <td>3</td>\n      <td>11</td>\n      <td>0</td>\n    </tr>\n    <tr>\n      <th>3</th>\n      <td>6182</td>\n      <td>1984</td>\n      <td>Graduation</td>\n      <td>Together</td>\n      <td>26646.0</td>\n      <td>1</td>\n      <td>0</td>\n      <td>10-02-2014</td>\n      <td>26</td>\n      <td>11</td>\n      <td>4</td>\n      <td>20</td>\n      <td>10</td>\n      <td>3</td>\n      <td>5</td>\n      <td>2</td>\n      <td>2</td>\n      <td>0</td>\n      <td>4</td>\n      <td>6</td>\n      <td>0</td>\n      <td>0</td>\n      <td>0</td>\n      <td>0</td>\n      <td>0</td>\n      <td>0</td>\n      <td>3</td>\n      <td>11</td>\n      <td>0</td>\n    </tr>\n    <tr>\n      <th>4</th>\n      <td>5324</td>\n      <td>1981</td>\n      <td>PhD</td>\n      <td>Married</td>\n      <td>58293.0</td>\n      <td>1</td>\n      <td>0</td>\n      <td>19-01-2014</td>\n      <td>94</td>\n      <td>173</td>\n      <td>43</td>\n      <td>118</td>\n      <td>46</td>\n      <td>27</td>\n      <td>15</td>\n      <td>5</td>\n      <td>5</td>\n      <td>3</td>\n      <td>6</td>\n      <td>5</td>\n      <td>0</td>\n      <td>0</td>\n      <td>0</td>\n      <td>0</td>\n      <td>0</td>\n      <td>0</td>\n      <td>3</td>\n      <td>11</td>\n      <td>0</td>\n    </tr>\n    <tr>\n      <th>...</th>\n      <td>...</td>\n      <td>...</td>\n      <td>...</td>\n      <td>...</td>\n      <td>...</td>\n      <td>...</td>\n      <td>...</td>\n      <td>...</td>\n      <td>...</td>\n      <td>...</td>\n      <td>...</td>\n      <td>...</td>\n      <td>...</td>\n      <td>...</td>\n      <td>...</td>\n      <td>...</td>\n      <td>...</td>\n      <td>...</td>\n      <td>...</td>\n      <td>...</td>\n      <td>...</td>\n      <td>...</td>\n      <td>...</td>\n      <td>...</td>\n      <td>...</td>\n      <td>...</td>\n      <td>...</td>\n      <td>...</td>\n      <td>...</td>\n    </tr>\n    <tr>\n      <th>2235</th>\n      <td>10870</td>\n      <td>1967</td>\n      <td>Graduation</td>\n      <td>Married</td>\n      <td>61223.0</td>\n      <td>0</td>\n      <td>1</td>\n      <td>13-06-2013</td>\n      <td>46</td>\n      <td>709</td>\n      <td>43</td>\n      <td>182</td>\n      <td>42</td>\n      <td>118</td>\n      <td>247</td>\n      <td>2</td>\n      <td>9</td>\n      <td>3</td>\n      <td>4</td>\n      <td>5</td>\n      <td>0</td>\n      <td>0</td>\n      <td>0</td>\n      <td>0</td>\n      <td>0</td>\n      <td>0</td>\n      <td>3</td>\n      <td>11</td>\n      <td>0</td>\n    </tr>\n    <tr>\n      <th>2236</th>\n      <td>4001</td>\n      <td>1946</td>\n      <td>PhD</td>\n      <td>Together</td>\n      <td>64014.0</td>\n      <td>2</td>\n      <td>1</td>\n      <td>10-06-2014</td>\n      <td>56</td>\n      <td>406</td>\n      <td>0</td>\n      <td>30</td>\n      <td>0</td>\n      <td>0</td>\n      <td>8</td>\n      <td>7</td>\n      <td>8</td>\n      <td>2</td>\n      <td>5</td>\n      <td>7</td>\n      <td>0</td>\n      <td>0</td>\n      <td>0</td>\n      <td>1</td>\n      <td>0</td>\n      <td>0</td>\n      <td>3</td>\n      <td>11</td>\n      <td>0</td>\n    </tr>\n    <tr>\n      <th>2237</th>\n      <td>7270</td>\n      <td>1981</td>\n      <td>Graduation</td>\n      <td>Divorced</td>\n      <td>56981.0</td>\n      <td>0</td>\n      <td>0</td>\n      <td>25-01-2014</td>\n      <td>91</td>\n      <td>908</td>\n      <td>48</td>\n      <td>217</td>\n      <td>32</td>\n      <td>12</td>\n      <td>24</td>\n      <td>1</td>\n      <td>2</td>\n      <td>3</td>\n      <td>13</td>\n      <td>6</td>\n      <td>0</td>\n      <td>1</td>\n      <td>0</td>\n      <td>0</td>\n      <td>0</td>\n      <td>0</td>\n      <td>3</td>\n      <td>11</td>\n      <td>0</td>\n    </tr>\n    <tr>\n      <th>2238</th>\n      <td>8235</td>\n      <td>1956</td>\n      <td>Master</td>\n      <td>Together</td>\n      <td>69245.0</td>\n      <td>0</td>\n      <td>1</td>\n      <td>24-01-2014</td>\n      <td>8</td>\n      <td>428</td>\n      <td>30</td>\n      <td>214</td>\n      <td>80</td>\n      <td>30</td>\n      <td>61</td>\n      <td>2</td>\n      <td>6</td>\n      <td>5</td>\n      <td>10</td>\n      <td>3</td>\n      <td>0</td>\n      <td>0</td>\n      <td>0</td>\n      <td>0</td>\n      <td>0</td>\n      <td>0</td>\n      <td>3</td>\n      <td>11</td>\n      <td>0</td>\n    </tr>\n    <tr>\n      <th>2239</th>\n      <td>9405</td>\n      <td>1954</td>\n      <td>PhD</td>\n      <td>Married</td>\n      <td>52869.0</td>\n      <td>1</td>\n      <td>1</td>\n      <td>15-10-2012</td>\n      <td>40</td>\n      <td>84</td>\n      <td>3</td>\n      <td>61</td>\n      <td>2</td>\n      <td>1</td>\n      <td>21</td>\n      <td>3</td>\n      <td>3</td>\n      <td>1</td>\n      <td>4</td>\n      <td>7</td>\n      <td>0</td>\n      <td>0</td>\n      <td>0</td>\n      <td>0</td>\n      <td>0</td>\n      <td>0</td>\n      <td>3</td>\n      <td>11</td>\n      <td>1</td>\n    </tr>\n  </tbody>\n</table>\n<p>2216 rows × 29 columns</p>\n</div>"
     },
     "metadata": {},
     "output_type": "display_data"
    },
    {
     "name": "stdout",
     "output_type": "stream",
     "text": [
      "The size of Dataset is (2216, 29)\n"
     ]
    }
   ],
   "source": [
    "pd.set_option('display.max_columns',None)\n",
    "data = pd.read_csv(\"marketing_campaign.csv\", sep='\\t')\n",
    "data.dropna(inplace=True)\n",
    "display(data)\n",
    "print(f'The size of Dataset is {data.shape}')"
   ]
  },
  {
   "cell_type": "markdown",
   "metadata": {
    "pycharm": {
     "name": "#%% md\n"
    }
   },
   "source": [
    "## Features\n",
    "\n",
    "### People\n",
    " - ID: Customer's unique identifier\n",
    " - Year_Birth: Customer's birth year\n",
    " - Education: Customer's education level\n",
    " - Marital_Status: Customer's marital status\n",
    " - Income: Customer's yearly household income\n",
    " - Kidhome: Number of children in customer's household\n",
    " - Teenhome: Number of teenagers in customer's household\n",
    " - Dt_Customer: Date of customer's enrollment with the company\n",
    " - Recency: Number of days since customer's last purchase\n",
    " - Complain: 1 if the customer complained in the last 2 years, 0 otherwise\n",
    "\n",
    "### Products\n",
    " - MntWines: Amount spent on wine in last 2 years\n",
    " - MntFruits: Amount spent on fruits in last 2 years\n",
    " - MntMeatProducts: Amount spent on meat in last 2 years\n",
    " - MntFishProducts: Amount spent on fish in last 2 years\n",
    " - MntSweetProducts: Amount spent on sweets in last 2 years\n",
    " - MntGoldProds: Amount spent on gold in last 2 years\n",
    "\n",
    "### Promotion\n",
    " - NumDealsPurchases: Number of purchases made with a discount\n",
    " - AcceptedCmp1: 1 if customer accepted the offer in the 1st campaign, 0 otherwise\n",
    " - AcceptedCmp2: 1 if customer accepted the offer in the 2nd campaign, 0 otherwise\n",
    " - AcceptedCmp3: 1 if customer accepted the offer in the 3rd campaign, 0 otherwise\n",
    " - AcceptedCmp4: 1 if customer accepted the offer in the 4th campaign, 0 otherwise\n",
    " - AcceptedCmp5: 1 if customer accepted the offer in the 5th campaign, 0 otherwise\n",
    " - Response: 1 if customer accepted the offer in the last campaign, 0 otherwise\n",
    "\n",
    "### Place\n",
    " - NumWebPurchases: Number of purchases made through the company’s website\n",
    " - NumCatalogPurchases: Number of purchases made using a catalogue\n",
    " - NumStorePurchases: Number of purchases made directly in stores\n",
    " - NumWebVisitsMonth: Number of visits to company’s website in the last month"
   ]
  },
  {
   "cell_type": "code",
   "execution_count": 175,
   "metadata": {
    "pycharm": {
     "name": "#%%\n"
    }
   },
   "outputs": [
    {
     "name": "stdout",
     "output_type": "stream",
     "text": [
      "<class 'pandas.core.frame.DataFrame'>\n",
      "Int64Index: 2216 entries, 0 to 2239\n",
      "Data columns (total 29 columns):\n",
      " #   Column               Non-Null Count  Dtype  \n",
      "---  ------               --------------  -----  \n",
      " 0   ID                   2216 non-null   int64  \n",
      " 1   Year_Birth           2216 non-null   int64  \n",
      " 2   Education            2216 non-null   object \n",
      " 3   Marital_Status       2216 non-null   object \n",
      " 4   Income               2216 non-null   float64\n",
      " 5   Kidhome              2216 non-null   int64  \n",
      " 6   Teenhome             2216 non-null   int64  \n",
      " 7   Dt_Customer          2216 non-null   object \n",
      " 8   Recency              2216 non-null   int64  \n",
      " 9   MntWines             2216 non-null   int64  \n",
      " 10  MntFruits            2216 non-null   int64  \n",
      " 11  MntMeatProducts      2216 non-null   int64  \n",
      " 12  MntFishProducts      2216 non-null   int64  \n",
      " 13  MntSweetProducts     2216 non-null   int64  \n",
      " 14  MntGoldProds         2216 non-null   int64  \n",
      " 15  NumDealsPurchases    2216 non-null   int64  \n",
      " 16  NumWebPurchases      2216 non-null   int64  \n",
      " 17  NumCatalogPurchases  2216 non-null   int64  \n",
      " 18  NumStorePurchases    2216 non-null   int64  \n",
      " 19  NumWebVisitsMonth    2216 non-null   int64  \n",
      " 20  AcceptedCmp3         2216 non-null   int64  \n",
      " 21  AcceptedCmp4         2216 non-null   int64  \n",
      " 22  AcceptedCmp5         2216 non-null   int64  \n",
      " 23  AcceptedCmp1         2216 non-null   int64  \n",
      " 24  AcceptedCmp2         2216 non-null   int64  \n",
      " 25  Complain             2216 non-null   int64  \n",
      " 26  Z_CostContact        2216 non-null   int64  \n",
      " 27  Z_Revenue            2216 non-null   int64  \n",
      " 28  Response             2216 non-null   int64  \n",
      "dtypes: float64(1), int64(25), object(3)\n",
      "memory usage: 519.4+ KB\n"
     ]
    }
   ],
   "source": [
    "data.info()"
   ]
  },
  {
   "cell_type": "markdown",
   "source": [
    "## Feature Engineering"
   ],
   "metadata": {
    "collapsed": false,
    "pycharm": {
     "name": "#%% md\n"
    }
   }
  },
  {
   "cell_type": "code",
   "execution_count": 176,
   "outputs": [],
   "source": [
    "def reduce_memory(df: pd.DataFrame):\n",
    "\n",
    "    start_time = df.memory_usage().sum()/1024**2\n",
    "    print(f'Memory Usage(Before): {start_time} MB')\n",
    "\n",
    "    for col in df.columns:\n",
    "        col_type = df[col].dtype\n",
    "\n",
    "        if col_type != 'object':\n",
    "            col_min = df[col].min()\n",
    "            col_max = df[col].max()\n",
    "            if str(col_type)[:3] == 'int':\n",
    "                if np.iinfo(np.int8).min > col_min  and np.iinfo(np.int8) < col_max:\n",
    "                    df[col] = df[col].astype(np.int8)\n",
    "                elif np.iinfo(np.int16).min > col_min and np.iinfo(np.int16) < col_max:\n",
    "                    df[col] = df[col].astype(np.int16)\n",
    "                elif np.iinfo(np.int32).min > col_min and np.iinfo(np.int32) < col_max:\n",
    "                    df[col] = df[col].astype(np.int32)\n",
    "                elif np.iinfo(np.int64).min > col_min and np.iinfo(np.int64) < col_max:\n",
    "                    df[col] = df[col].astype(np.int64)\n",
    "            else:\n",
    "                if np.finfo(np.float32).min > col_min and np.finfo(np.float32).min < col_max:\n",
    "                    df[col] = df[col].astype(np.float32)\n",
    "                else:\n",
    "                    df[col] = df[col].astype(np.float64)\n",
    "        else:\n",
    "            df[col] = df[col].astype('category')\n",
    "\n",
    "    end_time = df.memory_usage().sum()/1024**2\n",
    "    print(f'Memory Usage(After): {end_time} MB')\n",
    "    print(f'Decreased by {100*(start_time-end_time)/start_time}')\n",
    "\n",
    "    return df"
   ],
   "metadata": {
    "collapsed": false,
    "pycharm": {
     "name": "#%%\n"
    }
   }
  },
  {
   "cell_type": "code",
   "execution_count": 177,
   "outputs": [
    {
     "name": "stdout",
     "output_type": "stream",
     "text": [
      "Memory Usage(Before): 0.5072021484375 MB\n",
      "Memory Usage(After): 0.48632049560546875 MB\n",
      "Decreased by 4.117027677496991\n"
     ]
    }
   ],
   "source": [
    "data = reduce_memory(data)"
   ],
   "metadata": {
    "collapsed": false,
    "pycharm": {
     "name": "#%%\n"
    }
   }
  },
  {
   "cell_type": "code",
   "execution_count": 178,
   "outputs": [],
   "source": [
    "data['Age'] = datetime.now().year - data['Year_Birth']"
   ],
   "metadata": {
    "collapsed": false,
    "pycharm": {
     "name": "#%%\n"
    }
   }
  },
  {
   "cell_type": "code",
   "execution_count": 179,
   "outputs": [],
   "source": [
    "def years_rel():\n",
    "    res_year = pd.to_datetime(data['Dt_Customer'], format='%d-%m-%Y').apply(lambda x: x.year)\n",
    "    cur_year = datetime.now().year\n",
    "    return cur_year - res_year\n",
    "\n",
    "data['Years_since_enrollment'] = years_rel()"
   ],
   "metadata": {
    "collapsed": false,
    "pycharm": {
     "name": "#%%\n"
    }
   }
  },
  {
   "cell_type": "code",
   "execution_count": 180,
   "outputs": [],
   "source": [
    "data[\"Education\"] = data[\"Education\"].replace({\"Basic\": 0, \"Graduation\": 1, \"2n Cycle\": 2, \"Master\": 2, \"PhD\": 3})"
   ],
   "metadata": {
    "collapsed": false,
    "pycharm": {
     "name": "#%%\n"
    }
   }
  },
  {
   "cell_type": "code",
   "execution_count": 181,
   "outputs": [],
   "source": [
    "data['Marital_Status'] = data[\"Marital_Status\"].replace({\"Married\":\"Partner\", \"Together\":\"Partner\", \"Absurd\":\"Alone\",\n",
    "                                                         \"Widow\":\"Alone\", \"YOLO\":\"Alone\", \"Divorced\":\"Alone\", \"Single\":\"Alone\"})"
   ],
   "metadata": {
    "collapsed": false,
    "pycharm": {
     "name": "#%%\n"
    }
   }
  },
  {
   "cell_type": "code",
   "execution_count": 182,
   "outputs": [],
   "source": [
    "step_2 = data['Marital_Status'].replace({'Alone': 1, 'Partner': 2})"
   ],
   "metadata": {
    "collapsed": false,
    "pycharm": {
     "name": "#%%\n"
    }
   }
  },
  {
   "cell_type": "code",
   "execution_count": 183,
   "outputs": [],
   "source": [
    "data[\"Family_Size\"] = step_2 + data['Kidhome'] + data['Teenhome']"
   ],
   "metadata": {
    "collapsed": false,
    "pycharm": {
     "name": "#%%\n"
    }
   }
  },
  {
   "cell_type": "code",
   "execution_count": 184,
   "outputs": [],
   "source": [
    "data = pd.concat([data, pd.get_dummies(data['Marital_Status'])], axis=1)"
   ],
   "metadata": {
    "collapsed": false,
    "pycharm": {
     "name": "#%%\n"
    }
   }
  },
  {
   "cell_type": "code",
   "execution_count": 185,
   "outputs": [],
   "source": [
    "mnt_cols = ['MntWines', 'MntFruits', 'MntMeatProducts', 'MntFishProducts', 'MntSweetProducts', 'MntGoldProds']\n",
    "data['Sum_Mnt'] = data[mnt_cols].sum(axis=1)"
   ],
   "metadata": {
    "collapsed": false,
    "pycharm": {
     "name": "#%%\n"
    }
   }
  },
  {
   "cell_type": "code",
   "execution_count": 186,
   "outputs": [],
   "source": [
    "accepted_cmp_cols = ['AcceptedCmp1', 'AcceptedCmp2', 'AcceptedCmp3', 'AcceptedCmp4', 'AcceptedCmp5',\n",
    "                     'Response']\n",
    "data['Num_Accepted_Cmp'] = data[accepted_cmp_cols].sum(axis=1)"
   ],
   "metadata": {
    "collapsed": false,
    "pycharm": {
     "name": "#%%\n"
    }
   }
  },
  {
   "cell_type": "code",
   "execution_count": 187,
   "outputs": [],
   "source": [
    "total_purchases = ['NumWebPurchases', 'NumCatalogPurchases', 'NumStorePurchases']\n",
    "data['Num_Total_Purchases'] = data[total_purchases].sum(axis=1)"
   ],
   "metadata": {
    "collapsed": false,
    "pycharm": {
     "name": "#%%\n"
    }
   }
  },
  {
   "cell_type": "code",
   "execution_count": 188,
   "outputs": [],
   "source": [
    "def remove_outliers(df: pd.DataFrame, col: str) -> pd.Series:\n",
    "    q3,q1 = np.nanpercentile(df[col],[73,25])\n",
    "    iqr = q3 - q1\n",
    "    lower_bound = q1 - 1.5 * iqr\n",
    "    upper_bound = q3 + 1.5 * iqr\n",
    "    df = df[((df[col] > lower_bound) & (df[col] < upper_bound))]\n",
    "    return df"
   ],
   "metadata": {
    "collapsed": false,
    "pycharm": {
     "name": "#%%\n"
    }
   }
  },
  {
   "cell_type": "code",
   "execution_count": 189,
   "outputs": [],
   "source": [
    "data = remove_outliers(data,'Age')\n",
    "data = remove_outliers(data, 'Income')"
   ],
   "metadata": {
    "collapsed": false,
    "pycharm": {
     "name": "#%%\n"
    }
   }
  },
  {
   "cell_type": "code",
   "execution_count": 190,
   "outputs": [],
   "source": [
    "data.drop(['Year_Birth', 'ID', 'Z_CostContact', 'Z_Revenue', 'Dt_Customer', 'Marital_Status'], axis=1, inplace=True)"
   ],
   "metadata": {
    "collapsed": false,
    "pycharm": {
     "name": "#%%\n"
    }
   }
  },
  {
   "cell_type": "markdown",
   "source": [
    "## EDA"
   ],
   "metadata": {
    "collapsed": false,
    "pycharm": {
     "name": "#%% md\n"
    }
   }
  },
  {
   "cell_type": "code",
   "execution_count": 191,
   "outputs": [
    {
     "ename": "NameError",
     "evalue": "name 'sns' is not defined",
     "output_type": "error",
     "traceback": [
      "\u001B[0;31m---------------------------------------------------------------------------\u001B[0m",
      "\u001B[0;31mNameError\u001B[0m                                 Traceback (most recent call last)",
      "\u001B[0;32m/var/folders/zw/qlxvsmxd30gcw1_7wgmp1ns40000gn/T/ipykernel_48792/213011439.py\u001B[0m in \u001B[0;36m<module>\u001B[0;34m\u001B[0m\n\u001B[1;32m      6\u001B[0m            'Sum_Mnt', 'Num_Accepted_Cmp', 'Num_Total_Purchases', 'Alone', 'Partner']\n\u001B[1;32m      7\u001B[0m \u001B[0;34m\u001B[0m\u001B[0m\n\u001B[0;32m----> 8\u001B[0;31m \u001B[0mcmap\u001B[0m \u001B[0;34m=\u001B[0m \u001B[0msns\u001B[0m\u001B[0;34m.\u001B[0m\u001B[0mdiverging_palette\u001B[0m\u001B[0;34m(\u001B[0m\u001B[0;36m220\u001B[0m\u001B[0;34m,\u001B[0m \u001B[0;36m10\u001B[0m\u001B[0;34m,\u001B[0m \u001B[0mas_cmap\u001B[0m\u001B[0;34m=\u001B[0m\u001B[0;32mTrue\u001B[0m\u001B[0;34m)\u001B[0m\u001B[0;34m\u001B[0m\u001B[0;34m\u001B[0m\u001B[0m\n\u001B[0m\u001B[1;32m      9\u001B[0m \u001B[0mmatrix\u001B[0m \u001B[0;34m=\u001B[0m \u001B[0mnp\u001B[0m\u001B[0;34m.\u001B[0m\u001B[0mtriu\u001B[0m\u001B[0;34m(\u001B[0m\u001B[0mdata\u001B[0m\u001B[0;34m[\u001B[0m\u001B[0mto_corr\u001B[0m\u001B[0;34m]\u001B[0m\u001B[0;34m.\u001B[0m\u001B[0mcorr\u001B[0m\u001B[0;34m(\u001B[0m\u001B[0;34m)\u001B[0m\u001B[0;34m)\u001B[0m\u001B[0;34m\u001B[0m\u001B[0;34m\u001B[0m\u001B[0m\n\u001B[1;32m     10\u001B[0m \u001B[0mplt\u001B[0m\u001B[0;34m.\u001B[0m\u001B[0mfigure\u001B[0m\u001B[0;34m(\u001B[0m\u001B[0mfigsize\u001B[0m\u001B[0;34m=\u001B[0m\u001B[0;34m(\u001B[0m\u001B[0;36m25\u001B[0m\u001B[0;34m,\u001B[0m \u001B[0;36m14\u001B[0m\u001B[0;34m)\u001B[0m\u001B[0;34m)\u001B[0m\u001B[0;34m\u001B[0m\u001B[0;34m\u001B[0m\u001B[0m\n",
      "\u001B[0;31mNameError\u001B[0m: name 'sns' is not defined"
     ]
    }
   ],
   "source": [
    "to_corr = ['Age', 'Income', 'Kidhome', 'Teenhome', 'Recency', 'Complain',\n",
    "          'MntWines', 'MntFruits', 'MntMeatProducts', 'MntFishProducts', 'MntSweetProducts',\n",
    "          'MntGoldProds', 'NumDealsPurchases', 'AcceptedCmp1', 'AcceptedCmp2', 'AcceptedCmp3',\n",
    "          'AcceptedCmp4', 'AcceptedCmp5', 'Response', 'NumWebPurchases', 'NumCatalogPurchases',\n",
    "          'NumStorePurchases', 'NumWebVisitsMonth', 'Years_Since_Registration', 'Family_Size',\n",
    "           'Sum_Mnt', 'Num_Accepted_Cmp', 'Num_Total_Purchases', 'Alone', 'Partner']\n",
    "\n",
    "cmap = sns.diverging_palette(220, 10, as_cmap=True)\n",
    "matrix = np.triu(data[to_corr].corr())\n",
    "plt.figure(figsize=(25, 14))\n",
    "plt.title('Correlation matrix', fontsize=18)\n",
    "sns.heatmap(data[to_corr].corr(), annot=True,\n",
    "            fmt='.1f', vmin=-0.4, center=0, cmap=cmap, mask=matrix)\n",
    "\n",
    "plt.show()"
   ],
   "metadata": {
    "collapsed": false,
    "pycharm": {
     "name": "#%%\n"
    }
   }
  },
  {
   "cell_type": "markdown",
   "source": [
    "### Data Scaling"
   ],
   "metadata": {
    "collapsed": false,
    "pycharm": {
     "name": "#%% md\n"
    }
   }
  },
  {
   "cell_type": "code",
   "execution_count": null,
   "outputs": [],
   "source": [
    "from sklearn.preprocessing import MinMaxScaler\n",
    "\n",
    "def scaling_func(df: pd.DataFrame) -> None:\n",
    "    mms = MinMaxScaler()\n",
    "    return pd.DataFrame(data=mms.fit_transform(df), columns=df.columns)\n",
    "\n",
    "data_scaled = scaling_func(data)\n",
    "data_scaled.index = data.index"
   ],
   "metadata": {
    "collapsed": false,
    "pycharm": {
     "name": "#%%\n"
    }
   }
  },
  {
   "cell_type": "markdown",
   "source": [
    "### Dimentionality Reduction"
   ],
   "metadata": {
    "collapsed": false,
    "pycharm": {
     "name": "#%% md\n"
    }
   }
  },
  {
   "cell_type": "code",
   "execution_count": null,
   "outputs": [],
   "source": [
    "from sklearn.decomposition import PCA\n",
    "\n",
    "def dim_reduction(data: pd.DataFrame) -> pd.DataFrame:\n",
    "    n_components = 8\n",
    "    pca = PCA(n_components=n_components, random_state=42)\n",
    "    data = pd.DataFrame(pca.fit_transform(data), columns =([f'PC{i}' for i in range(1, n_components + 1)]))\n",
    "    return data\n",
    "\n",
    "data_transformed = dim_reduction(data_scaled)\n",
    "\n",
    "data_transformed.index =  data_scaled.index"
   ],
   "metadata": {
    "collapsed": false,
    "pycharm": {
     "name": "#%%\n"
    }
   }
  },
  {
   "cell_type": "markdown",
   "source": [
    "## Cluster Analysis"
   ],
   "metadata": {
    "collapsed": false,
    "pycharm": {
     "name": "#%% md\n"
    }
   }
  },
  {
   "cell_type": "code",
   "execution_count": null,
   "outputs": [],
   "source": [
    "from sklearn.cluster import AgglomerativeClustering\n",
    "from sklearn.metrics import silhouette_score\n",
    "\n",
    "best_model = AgglomerativeClustering(n_clusters=3)\n",
    "labels = pd.DataFrame(best_model.fit_predict(data_transformed), columns=['Clusters'], index=data.index)\n",
    "data = pd.concat([data, labels], axis=1)"
   ],
   "metadata": {
    "collapsed": false,
    "pycharm": {
     "name": "#%%\n"
    }
   }
  },
  {
   "cell_type": "code",
   "execution_count": null,
   "outputs": [],
   "source": [
    "data"
   ],
   "metadata": {
    "collapsed": false,
    "pycharm": {
     "name": "#%%\n"
    }
   }
  },
  {
   "cell_type": "markdown",
   "source": [
    "## Conclusion"
   ],
   "metadata": {
    "collapsed": false,
    "pycharm": {
     "name": "#%% md\n"
    }
   }
  },
  {
   "cell_type": "markdown",
   "source": [
    "As a result of cluster analysis, we received three groups of buyers (clusters):\n",
    "### 0 cluster:\n",
    " - Middle income people (average income equals 50000)\n",
    " - Average age is 52 years\n",
    " - Have an education (Graduation, 2n Cycle, Master, PhD)\n",
    " - People without family, people with families with and without children\n",
    " - Quite often buy wines, but they also often buy meat\n",
    " - Most often make purchases on the web\n",
    " - The average number of purchases is 13\n",
    "### 1 cluster:\n",
    " - High income people (average income equals 70000)\n",
    " - Average age is 55 years\n",
    " - Have an education (Graduation, 2n Cycle, Master, PhD)\n",
    " - Have a family with children (Teenhome)\n",
    " - Quite often buy wines, but they also often buy meat\n",
    " - Most often make purchases in the stores themselves\n",
    " - Most often make purchases (compared to other clusters)\n",
    "### 2 cluster:\n",
    " - Average income equals 38000\n",
    " - Average age is 49 years\n",
    " - Have an education (Graduation, 2n Cycle, Master, PhD)\n",
    " - People with families with and without children\n",
    " - A low number of purchases and, accordingly, spend little money on purchases"
   ],
   "metadata": {
    "collapsed": false,
    "pycharm": {
     "name": "#%% md\n"
    }
   }
  }
 ],
 "metadata": {
  "kernelspec": {
   "display_name": "Python 3 (ipykernel)",
   "language": "python",
   "name": "python3"
  },
  "language_info": {
   "codemirror_mode": {
    "name": "ipython",
    "version": 3
   },
   "file_extension": ".py",
   "mimetype": "text/x-python",
   "name": "python",
   "nbconvert_exporter": "python",
   "pygments_lexer": "ipython3",
   "version": "3.10.6"
  }
 },
 "nbformat": 4,
 "nbformat_minor": 1
}